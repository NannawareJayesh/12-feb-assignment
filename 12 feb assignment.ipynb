{
 "cells": [
  {
   "cell_type": "markdown",
   "id": "2f19d3e8-e73f-43f2-b9b9-6a54d93af6f1",
   "metadata": {},
   "source": [
    "## 12 feb assignment"
   ]
  },
  {
   "cell_type": "markdown",
   "id": "39c95872-616f-4361-9a97-eeadd810b89c",
   "metadata": {},
   "source": [
    "Q1. What is an Exception in python? Write the difference between Exceptions and Syntax errors."
   ]
  },
  {
   "cell_type": "markdown",
   "id": "77f2ed47-e0e8-4a4a-82cd-328ca3de43bc",
   "metadata": {},
   "source": [
    "In Python, an Exception is an error that occurs during the execution of a program. When a statement or an expression in a program cannot be executed properly, due to certain reasons such as wrong input, unavailability of resources, or an unexpected event, an exception is raised.\n",
    "\n",
    "Exceptions are handled using try...except blocks. In a try block, the code that may raise an exception is written, and in the except block, the code that should be executed if the exception occurs is written. If an exception occurs, the except block is executed, and if not, the code in the try block continues to execute normally.\n",
    "\n",
    "On the other hand, a Syntax Error is a type of error that occurs when the Python interpreter is not able to parse a program because of invalid syntax. These errors occur before the execution of the program starts, and they indicate that the program is not well-formed.\n",
    "\n",
    "The key difference between Exceptions and Syntax Errors is that Exceptions occur during the execution of the program, while Syntax Errors occur during the compilation or parsing of the program. Exceptions are handled using try...except blocks, while Syntax Errors need to be fixed by correcting the syntax of the program."
   ]
  },
  {
   "cell_type": "markdown",
   "id": "88c50397-dfd8-4dfc-9b8c-10df7ab74c88",
   "metadata": {},
   "source": [
    "Q2. What happens when an exception is not handled? Explain with an example"
   ]
  },
  {
   "cell_type": "markdown",
   "id": "b656568e-a6d1-49f1-89c7-f68feadf8466",
   "metadata": {},
   "source": [
    "When an exception is not handled in Python, it results in a runtime error, and the program terminates abruptly. The error message and traceback of the exception are displayed on the console or terminal, indicating the location and type of the exception that occurred."
   ]
  },
  {
   "cell_type": "code",
   "execution_count": 1,
   "id": "ce541e34-d294-4eca-8c6a-79794c2b0831",
   "metadata": {},
   "outputs": [
    {
     "ename": "ZeroDivisionError",
     "evalue": "division by zero",
     "output_type": "error",
     "traceback": [
      "\u001b[0;31m---------------------------------------------------------------------------\u001b[0m",
      "\u001b[0;31mZeroDivisionError\u001b[0m                         Traceback (most recent call last)",
      "Cell \u001b[0;32mIn[1], line 4\u001b[0m\n\u001b[1;32m      1\u001b[0m \u001b[38;5;28;01mdef\u001b[39;00m \u001b[38;5;21mdivide\u001b[39m(a, b):\n\u001b[1;32m      2\u001b[0m     \u001b[38;5;28;01mreturn\u001b[39;00m a\u001b[38;5;241m/\u001b[39mb\n\u001b[0;32m----> 4\u001b[0m \u001b[38;5;28mprint\u001b[39m(\u001b[43mdivide\u001b[49m\u001b[43m(\u001b[49m\u001b[38;5;241;43m10\u001b[39;49m\u001b[43m,\u001b[49m\u001b[43m \u001b[49m\u001b[38;5;241;43m0\u001b[39;49m\u001b[43m)\u001b[49m)\n",
      "Cell \u001b[0;32mIn[1], line 2\u001b[0m, in \u001b[0;36mdivide\u001b[0;34m(a, b)\u001b[0m\n\u001b[1;32m      1\u001b[0m \u001b[38;5;28;01mdef\u001b[39;00m \u001b[38;5;21mdivide\u001b[39m(a, b):\n\u001b[0;32m----> 2\u001b[0m     \u001b[38;5;28;01mreturn\u001b[39;00m \u001b[43ma\u001b[49m\u001b[38;5;241;43m/\u001b[39;49m\u001b[43mb\u001b[49m\n",
      "\u001b[0;31mZeroDivisionError\u001b[0m: division by zero"
     ]
    }
   ],
   "source": [
    "def divide(a, b):\n",
    "    return a/b\n",
    "\n",
    "print(divide(10, 0))\n"
   ]
  },
  {
   "cell_type": "code",
   "execution_count": 2,
   "id": "55b0a9d0-cae5-463b-95e5-139f0fec2a23",
   "metadata": {},
   "outputs": [
    {
     "name": "stdout",
     "output_type": "stream",
     "text": [
      "Error: division by zero\n",
      "None\n"
     ]
    }
   ],
   "source": [
    "def divide(a, b):\n",
    "    try:\n",
    "        return a/b\n",
    "    except ZeroDivisionError:\n",
    "        print(\"Error: division by zero\")\n",
    "\n",
    "print(divide(10, 0))\n"
   ]
  },
  {
   "cell_type": "markdown",
   "id": "2bc599cf-ad4d-4971-a915-2673f2ae1ebd",
   "metadata": {},
   "source": [
    "Q3. Which Python statements are used to catch and handle exceptions? Explain with an example."
   ]
  },
  {
   "cell_type": "markdown",
   "id": "b58994e8-8d59-4320-ad07-f0a272e82d16",
   "metadata": {},
   "source": [
    "In Python, we use try...except statements to catch and handle exceptions.\n",
    "\n",
    "The try block contains the code that might raise an exception, and the except block contains the code that handles the exception. If an exception occurs in the try block, the interpreter looks for a matching except block to handle the exception. If it finds one, the code in the except block is executed."
   ]
  },
  {
   "cell_type": "code",
   "execution_count": 4,
   "id": "574246b2-b748-4ef0-8d0d-5164ace7dff4",
   "metadata": {},
   "outputs": [
    {
     "name": "stdin",
     "output_type": "stream",
     "text": [
      "Enter a number:  10\n"
     ]
    },
    {
     "name": "stdout",
     "output_type": "stream",
     "text": [
      "The result is: 1.0\n"
     ]
    }
   ],
   "source": [
    "try:\n",
    "    num = int(input(\"Enter a number: \"))\n",
    "    result = 10 / num\n",
    "    print(\"The result is:\", result)\n",
    "except ZeroDivisionError:\n",
    "    print(\"Error: Cannot divide by zero!\")\n",
    "except ValueError:\n",
    "    print(\"Error: Invalid input, please enter a valid integer.\")\n"
   ]
  },
  {
   "cell_type": "markdown",
   "id": "b9b4543c-5f43-4268-9b0e-7ca5da41d08f",
   "metadata": {},
   "source": [
    "Q4. Explain with an example:\n",
    "try and else\n",
    " finally\n",
    " raise"
   ]
  },
  {
   "cell_type": "markdown",
   "id": "82985b8b-397e-4403-81a2-9617b04879ff",
   "metadata": {},
   "source": [
    "try...else block:\n",
    "In Python, we can use a try...else block to execute a code block if no exception is raised in the try block. The else block is executed only if the try block completes successfully without any exceptions."
   ]
  },
  {
   "cell_type": "code",
   "execution_count": null,
   "id": "2bfa8fbc-ec26-4dea-ab7d-9331f08db3e6",
   "metadata": {},
   "outputs": [],
   "source": [
    "try:\n",
    "    num = int(input(\"Enter a number: \"))\n",
    "except ValueError:\n",
    "    print(\"Error: Invalid input, please enter a valid integer.\")\n",
    "else:\n",
    "    result = 10 / num\n",
    "    print(\"The result is:\", result)\n"
   ]
  },
  {
   "cell_type": "markdown",
   "id": "d1e80575-5486-4b7f-b6e2-11faf4c0fcfd",
   "metadata": {},
   "source": [
    "finally block:\n",
    "In Python, we use a finally block to execute a block of code after the try and except blocks, regardless of whether an exception was raised or not."
   ]
  },
  {
   "cell_type": "code",
   "execution_count": null,
   "id": "b6cb87aa-cec5-4e53-a58a-b853edcd3a01",
   "metadata": {},
   "outputs": [],
   "source": [
    "try:\n",
    "    file = open(\"example.txt\", \"r\")\n",
    "    data = file.read()\n",
    "    print(data)\n",
    "except FileNotFoundError:\n",
    "    print(\"Error: File not found.\")\n",
    "finally:\n",
    "    file.close()\n"
   ]
  },
  {
   "cell_type": "markdown",
   "id": "e447b778-b631-4f6c-964f-2c3715b0bea2",
   "metadata": {},
   "source": [
    "raise statement:\n",
    "In Python, we use the raise statement to raise an exception explicitly. We can use it to raise any built-in or user-defined exception."
   ]
  },
  {
   "cell_type": "code",
   "execution_count": null,
   "id": "032e445b-1e34-43dc-862b-8f2d90b3990b",
   "metadata": {},
   "outputs": [],
   "source": [
    "def divide(a, b):\n",
    "    if b == 0:\n",
    "        raise ValueError(\"Cannot divide by zero!\")\n",
    "    return a / b\n",
    "\n",
    "try:\n",
    "    result = divide(10, 0)\n",
    "except ValueError as e:\n",
    "    print(\"Error:\", str(e))\n",
    "else:\n",
    "    print(\"The result is:\", result)\n"
   ]
  },
  {
   "cell_type": "markdown",
   "id": "6bdc5426-4245-4edb-b091-fd63206f6dea",
   "metadata": {},
   "source": [
    "Q5. What are Custom Exceptions in python? Why do we need Custom Exceptions? Explain with an example."
   ]
  },
  {
   "cell_type": "markdown",
   "id": "47b43b52-4259-4f13-a784-5179a3d18eee",
   "metadata": {},
   "source": [
    "In Python, custom exceptions are user-defined exceptions that can be raised like built-in exceptions. Custom exceptions are created by defining a new class that inherits from the base Exception class or one of its subclasses.\n",
    "\n",
    "We need custom exceptions to provide a meaningful way to communicate errors that are specific to our code or domain. By creating custom exceptions, we can define our own error messages and provide additional context to the user."
   ]
  },
  {
   "cell_type": "code",
   "execution_count": null,
   "id": "6ba36f24-bb2d-447e-a22a-d994f6839816",
   "metadata": {},
   "outputs": [],
   "source": [
    "class NegativeNumberError(Exception):\n",
    "    def __init__(self, message):\n",
    "        self.message = message\n",
    "\n",
    "def calculate_factorial(num):\n",
    "    if num < 0:\n",
    "        raise NegativeNumberError(\"Cannot calculate factorial of a negative number!\")\n",
    "    fact = 1\n",
    "    for i in range(1, num+1):\n",
    "        fact *= i\n",
    "    return fact\n",
    "\n",
    "try:\n",
    "    num = int(input(\"Enter a number: \"))\n",
    "    result = calculate_factorial(num)\n",
    "    print(\"The factorial of\", num, \"is\", result)\n",
    "except ValueError:\n",
    "    print(\"Error: Invalid input, please enter a valid integer.\")\n",
    "except NegativeNumberError as e:\n",
    "    print(\"Error:\", str(e))\n"
   ]
  },
  {
   "cell_type": "markdown",
   "id": "c907ab71-8655-48d5-a197-ed7f0862603b",
   "metadata": {},
   "source": [
    "Q6. Create a custom exception class. Use this class to handle an exception."
   ]
  },
  {
   "cell_type": "code",
   "execution_count": null,
   "id": "bfc2a9db-a189-40e7-adea-39497f713162",
   "metadata": {},
   "outputs": [],
   "source": [
    "class NegativeNumberError(Exception):\n",
    "    def __init__(self, message):\n",
    "        self.message = message\n",
    "\n",
    "def divide_numbers(a, b):\n",
    "    if b == 0:\n",
    "        raise ZeroDivisionError(\"Cannot divide by zero!\")\n",
    "    elif a < 0 or b < 0:\n",
    "        raise NegativeNumberError(\"Numbers should be positive!\")\n",
    "    else:\n",
    "        return a / b\n",
    "\n",
    "try:\n",
    "    num1 = int(input(\"Enter the first number: \"))\n",
    "    num2 = int(input(\"Enter the second number: \"))\n",
    "    result = divide_numbers(num1, num2)\n",
    "    print(\"Result:\", result)\n",
    "except ValueError:\n",
    "    print(\"Error: Invalid input, please enter a valid integer.\")\n",
    "except ZeroDivisionError as e:\n",
    "    print(\"Error:\", str(e))\n",
    "except NegativeNumberError as e:\n",
    "    print(\"Error:\", str(e))\n"
   ]
  },
  {
   "cell_type": "code",
   "execution_count": null,
   "id": "491c831f-aac3-4345-b874-539ae3a58f2f",
   "metadata": {},
   "outputs": [],
   "source": []
  }
 ],
 "metadata": {
  "kernelspec": {
   "display_name": "Python 3 (ipykernel)",
   "language": "python",
   "name": "python3"
  },
  "language_info": {
   "codemirror_mode": {
    "name": "ipython",
    "version": 3
   },
   "file_extension": ".py",
   "mimetype": "text/x-python",
   "name": "python",
   "nbconvert_exporter": "python",
   "pygments_lexer": "ipython3",
   "version": "3.10.8"
  }
 },
 "nbformat": 4,
 "nbformat_minor": 5
}
